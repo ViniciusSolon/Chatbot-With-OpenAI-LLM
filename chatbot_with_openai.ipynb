{
  "nbformat": 4,
  "nbformat_minor": 0,
  "metadata": {
    "colab": {
      "provenance": [],
      "authorship_tag": "ABX9TyMY3i83ZtVRQKJ2f+cETl3n",
      "include_colab_link": true
    },
    "kernelspec": {
      "name": "python3",
      "display_name": "Python 3"
    },
    "language_info": {
      "name": "python"
    }
  },
  "cells": [
    {
      "cell_type": "markdown",
      "metadata": {
        "id": "view-in-github",
        "colab_type": "text"
      },
      "source": [
        "<a href=\"https://colab.research.google.com/github/ViniciusSolon/Chatbot-With-OpenAI-LLM/blob/main/chatbot_with_openai.ipynb\" target=\"_parent\"><img src=\"https://colab.research.google.com/assets/colab-badge.svg\" alt=\"Open In Colab\"/></a>"
      ]
    },
    {
      "cell_type": "code",
      "execution_count": null,
      "metadata": {
        "id": "ZgitmmKlHuVd"
      },
      "outputs": [],
      "source": [
        "pip install -q openai"
      ]
    },
    {
      "cell_type": "code",
      "source": [
        "from google.colab import userdata\n",
        "key_openai = userdata.get('open_ia_key')"
      ],
      "metadata": {
        "id": "k5KDOKiyIA_k"
      },
      "execution_count": null,
      "outputs": []
    },
    {
      "cell_type": "code",
      "source": [
        "import os\n",
        "import openai\n",
        "\n",
        "\n",
        "client = openai.OpenAI(\n",
        "    api_key=key_openai, max_retries=10  # This is the default and can be omitted\n",
        ")\n",
        "\n",
        "def chat_with_gpt():\n",
        "\n",
        "  while True:\n",
        "    user_message = input(\"Você: \")\n",
        "    if user_message.lower() == \"sair\":\n",
        "      return\n",
        "    stream = client.chat.completions.create(\n",
        "          messages=[\n",
        "              {\n",
        "                  \"role\": \"user\",\n",
        "                  \"content\": f\"{user_message}\",\n",
        "              }\n",
        "          ],\n",
        "          model=\"gpt-4o\",\n",
        "          stream=True,\n",
        "      )\n",
        "    for chunk in stream:\n",
        "          print(chunk.choices[0].delta.content or \"\", end=\"\")\n",
        "\n",
        "chat_with_gpt()\n"
      ],
      "metadata": {
        "id": "Wr3sNT1nQAMJ",
        "colab": {
          "base_uri": "https://localhost:8080/"
        },
        "outputId": "833c1550-8b06-4f60-c64e-3afd81aceffc"
      },
      "execution_count": null,
      "outputs": [
        {
          "output_type": "stream",
          "name": "stdout",
          "text": [
            "Você: Hello, how can i learn python?\n",
            "Learning Python can be a rewarding experience, and there are numerous resources and strategies you can use to learn effectively. Here are some steps and resources to help you get started:\n",
            "\n",
            "1. **Understand the Basics**: \n",
            "   - Learn about basic syntax, data types (integers, floats, strings), and operations.\n",
            "   - Understand control structures such as loops and conditionals.\n",
            "   - Get familiar with functions and modules.\n",
            "\n",
            "2. **Online Courses**: \n",
            "   - **Coursera**: Offers courses like \"Programming for Everybody\" by the University of Michigan.\n",
            "   - **edX**: Check out \"Introduction to Computer Science and Programming Using Python\" by MIT.\n",
            "   - **Udemy**: Offers comprehensive courses like \"Complete Python Bootcamp.\"\n",
            "\n",
            "3. **Interactive Platforms**:\n",
            "   - **Codecademy**: Provides a beginner-friendly interactive Python course.\n",
            "   - **Khan Academy**: Offers practical exercises and projects.\n",
            "\n",
            "4. **Books**:\n",
            "   - \"Automate the Boring Stuff with Python\" by Al Sweigart: Great for beginners.\n",
            "   - \"Python Crash Course\" by Eric Matthes: Good for hands-on practice.\n",
            "\n",
            "5. **Practice Coding**:\n",
            "   - Use platforms like **LeetCode**, **HackerRank**, or **CodeSignal** to solve problems and improve your coding skills.\n",
            "\n",
            "6. **Projects**:\n",
            "   - Build small projects like a calculator, to-do list app, or web scraper to apply your knowledge.\n",
            "   - Contribute to open-source projects on platforms like GitHub.\n",
            "\n",
            "7. **Join a Community**:\n",
            "   - Engage with communities like **Reddit's r/learnpython**, **Stack Overflow**, or local Meetup groups to get help and collaborate with others.\n",
            "\n",
            "8. **Stay Consistent**:\n",
            "   - Make a study plan and stick to it. Consistency is key in learning programming.\n",
            "\n",
            "9. **Advanced Topics** (once you're comfortable with the basics):\n",
            "   - Explore libraries such as NumPy, pandas for data analysis, and Flask or Django for web development.\n",
            "   - Learn about classes and object-oriented programming.\n",
            "\n",
            "10. **Practice Regularly**:\n",
            "   - Set challenges for yourself, solve coding problems regularly, and keep building projects to enhance your skills.\n",
            "\n",
            "By using a combination of these resources and strategies, you'll be able to learn Python effectively. Remember, practice and persistence are crucial for mastering any programming language."
          ]
        }
      ]
    }
  ]
}